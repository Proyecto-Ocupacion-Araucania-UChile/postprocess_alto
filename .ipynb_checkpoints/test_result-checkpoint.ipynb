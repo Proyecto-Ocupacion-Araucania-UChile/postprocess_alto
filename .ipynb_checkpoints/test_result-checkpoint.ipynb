{
 "cells": [
  {
   "cell_type": "code",
   "execution_count": null,
   "id": "e58e2c9b",
   "metadata": {},
   "outputs": [],
   "source": [
    "https://stackoverflow.com/questions/3043026/comparing-two-text-files-in-python\n",
    "https://stackoverflow.com/questions/47728069/sklearn-cosine-similarity-for-strings-python\n",
    "https://stackoverflow.com/questions/100003/what-are-metaclasses-in-python?rq=1\n",
    "https://stackoverflow.com/questions/8897593/how-to-compute-the-similarity-between-two-text-documents\n",
    "https://www.nltk.org/_modules/nltk/tokenize/punkt.html"
   ]
  }
 ],
 "metadata": {
  "kernelspec": {
   "display_name": "Python 3 (ipykernel)",
   "language": "python",
   "name": "python3"
  },
  "language_info": {
   "codemirror_mode": {
    "name": "ipython",
    "version": 3
   },
   "file_extension": ".py",
   "mimetype": "text/x-python",
   "name": "python",
   "nbconvert_exporter": "python",
   "pygments_lexer": "ipython3",
   "version": "3.8.10"
  }
 },
 "nbformat": 4,
 "nbformat_minor": 5
}
